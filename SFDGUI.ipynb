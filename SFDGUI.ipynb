{
 "cells": [
  {
   "cell_type": "code",
   "execution_count": 4,
   "id": "b57f28e7",
   "metadata": {},
   "outputs": [],
   "source": [
    "import import_ipynb"
   ]
  },
  {
   "cell_type": "code",
   "execution_count": null,
   "id": "0577dd3f",
   "metadata": {},
   "outputs": [],
   "source": [
    "import Minipro"
   ]
  },
  {
   "cell_type": "code",
   "execution_count": null,
   "id": "60cb7f37",
   "metadata": {},
   "outputs": [],
   "source": [
    "from Minipro import readData"
   ]
  },
  {
   "cell_type": "code",
   "execution_count": null,
   "id": "880d5e01",
   "metadata": {},
   "outputs": [],
   "source": [
    "import tkinter as tk"
   ]
  },
  {
   "cell_type": "code",
   "execution_count": 5,
   "id": "59438383",
   "metadata": {},
   "outputs": [],
   "source": [
    "from tkinter import filedialog\n",
    "from tkinter.filedialog import askopenfile"
   ]
  },
  {
   "cell_type": "code",
   "execution_count": null,
   "id": "3405fc8f",
   "metadata": {},
   "outputs": [],
   "source": [
    "from tkinter import *\n",
    "from PIL import Image, ImageTk\n",
    "from Minipro import readData\n",
    "\n",
    "my_w = tk.Tk()\n",
    "my_w.geometry(\"400x200\")  # Size of the window \n",
    "my_w.title('SVS')\n",
    "my_font1=('times', 18, 'bold')\n",
    "font2 = ('Nimbus Mono L', 10)\n",
    "\n",
    "l1 = tk.Label(my_w,text='ADD DETAILS',width=30,font=my_font1)  \n",
    "l1.grid(row=2,column=1,pady=10)\n",
    "\n",
    "prevtext = tk.Label(my_w,text=\"Enter the Person's ID\",width=30, font=font2) \n",
    "prevtext.grid(row=3,column=1)\n",
    "textBox=Text(my_w,  height=1, width=17)\n",
    "textBox.grid(row=4,column=1,pady=10) \n",
    "\n",
    "\n",
    "b1 = tk.Button(my_w, text='UPLOAD IMAGE', \n",
    "   width=20,command = lambda:upload_file())\n",
    "b1.grid(row=6,column=1,pady=5) \n",
    "    \n",
    "\n",
    "def retrieve_input():\n",
    "    return textBox.get(\"1.0\",\"end-1c\")\n",
    "    \n",
    "def upload_file():\n",
    "    global img\n",
    "    f_types = [('Jpg Files', '*.png')]\n",
    "    filename = filedialog.askopenfilename(filetypes=f_types)\n",
    "    inputValue=retrieve_input()\n",
    "    readData(str(inputValue),str(filename))\n",
    "    \n",
    "my_w.mainloop()"
   ]
  },
  {
   "cell_type": "code",
   "execution_count": null,
   "id": "ef3d69fa",
   "metadata": {},
   "outputs": [],
   "source": []
  }
 ],
 "metadata": {
  "kernelspec": {
   "display_name": "Python 3 (ipykernel)",
   "language": "python",
   "name": "python3"
  },
  "language_info": {
   "codemirror_mode": {
    "name": "ipython",
    "version": 3
   },
   "file_extension": ".py",
   "mimetype": "text/x-python",
   "name": "python",
   "nbconvert_exporter": "python",
   "pygments_lexer": "ipython3",
   "version": "3.10.3"
  }
 },
 "nbformat": 4,
 "nbformat_minor": 5
}
